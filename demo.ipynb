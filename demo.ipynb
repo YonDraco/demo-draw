{
 "cells": [
  {
   "cell_type": "code",
   "execution_count": 2,
   "id": "c710b3c8-5298-496e-a5df-118b3d335f57",
   "metadata": {},
   "outputs": [
    {
     "name": "stdout",
     "output_type": "stream",
     "text": [
      "Collecting plotly\n",
      "  Downloading plotly-5.11.0-py2.py3-none-any.whl (15.3 MB)\n",
      "Collecting tenacity>=6.2.0\n",
      "  Downloading tenacity-8.1.0-py3-none-any.whl (23 kB)\n",
      "Installing collected packages: tenacity, plotly\n",
      "Successfully installed plotly-5.11.0 tenacity-8.1.0\n"
     ]
    }
   ],
   "source": [
    "!pip install plotly"
   ]
  },
  {
   "cell_type": "code",
   "execution_count": 3,
   "id": "14c1c643-0aac-4d6e-a76c-01bdb693fa88",
   "metadata": {},
   "outputs": [
    {
     "data": {
      "text/html": [
       "        <script type=\"text/javascript\">\n",
       "        window.PlotlyConfig = {MathJaxConfig: 'local'};\n",
       "        if (window.MathJax && window.MathJax.Hub && window.MathJax.Hub.Config) {window.MathJax.Hub.Config({SVG: {font: \"STIX-Web\"}});}\n",
       "        if (typeof require !== 'undefined') {\n",
       "        require.undef(\"plotly\");\n",
       "        requirejs.config({\n",
       "            paths: {\n",
       "                'plotly': ['https://cdn.plot.ly/plotly-2.16.1.min']\n",
       "            }\n",
       "        });\n",
       "        require(['plotly'], function(Plotly) {\n",
       "            window._Plotly = Plotly;\n",
       "        });\n",
       "        }\n",
       "        </script>\n",
       "        "
      ]
     },
     "metadata": {},
     "output_type": "display_data"
    }
   ],
   "source": [
    "import pandas as pd\n",
    "import plotly.graph_objects as go\n",
    "\n",
    "from plotly.offline import iplot, init_notebook_mode\n",
    "init_notebook_mode(connected=True)"
   ]
  },
  {
   "cell_type": "code",
   "execution_count": 4,
   "id": "3eca0317-e1dc-4c40-b597-0ca39d77dcb8",
   "metadata": {},
   "outputs": [
    {
     "data": {
      "text/html": [
       "<div>\n",
       "<style scoped>\n",
       "    .dataframe tbody tr th:only-of-type {\n",
       "        vertical-align: middle;\n",
       "    }\n",
       "\n",
       "    .dataframe tbody tr th {\n",
       "        vertical-align: top;\n",
       "    }\n",
       "\n",
       "    .dataframe thead th {\n",
       "        text-align: right;\n",
       "    }\n",
       "</style>\n",
       "<table border=\"1\" class=\"dataframe\">\n",
       "  <thead>\n",
       "    <tr style=\"text-align: right;\">\n",
       "      <th></th>\n",
       "      <th>source</th>\n",
       "      <th>target</th>\n",
       "      <th>weight</th>\n",
       "    </tr>\n",
       "  </thead>\n",
       "  <tbody>\n",
       "    <tr>\n",
       "      <th>0</th>\n",
       "      <td>about to sleep</td>\n",
       "      <td>champions</td>\n",
       "      <td>17</td>\n",
       "    </tr>\n",
       "    <tr>\n",
       "      <th>1</th>\n",
       "      <td>about to sleep</td>\n",
       "      <td>hibernating</td>\n",
       "      <td>1434</td>\n",
       "    </tr>\n",
       "    <tr>\n",
       "      <th>2</th>\n",
       "      <td>about to sleep</td>\n",
       "      <td>new customers</td>\n",
       "      <td>693</td>\n",
       "    </tr>\n",
       "    <tr>\n",
       "      <th>3</th>\n",
       "      <td>about to sleep</td>\n",
       "      <td>potential loyalist</td>\n",
       "      <td>94</td>\n",
       "    </tr>\n",
       "    <tr>\n",
       "      <th>4</th>\n",
       "      <td>about to sleep</td>\n",
       "      <td>promising</td>\n",
       "      <td>365</td>\n",
       "    </tr>\n",
       "  </tbody>\n",
       "</table>\n",
       "</div>"
      ],
      "text/plain": [
       "           source              target  weight\n",
       "0  about to sleep           champions      17\n",
       "1  about to sleep         hibernating    1434\n",
       "2  about to sleep       new customers     693\n",
       "3  about to sleep  potential loyalist      94\n",
       "4  about to sleep           promising     365"
      ]
     },
     "execution_count": 4,
     "metadata": {},
     "output_type": "execute_result"
    }
   ],
   "source": [
    "df = pd.read_csv('new.csv')\n",
    "df.head()"
   ]
  },
  {
   "cell_type": "code",
   "execution_count": 5,
   "id": "52c7b88e-d405-4ce2-bdce-45c9d6e6117f",
   "metadata": {},
   "outputs": [],
   "source": [
    "def genSankey(df,cat_cols=[],value_cols='',title='Sankey Diagram'):\n",
    "    colorPalette = ['#4B8BBE','#306998','#FFE873','#FFD43B','#646464']\n",
    "    labelList = []\n",
    "    colorNumList = []\n",
    "    for catCol in cat_cols:\n",
    "        labelListTemp =  list(set(df[catCol].values))\n",
    "        colorNumList.append(len(labelListTemp))\n",
    "        labelList = labelList + labelListTemp\n",
    "        \n",
    "    labelList = list(dict.fromkeys(labelList))\n",
    "    \n",
    "    colorList = []\n",
    "    for idx, colorNum in enumerate(colorNumList):\n",
    "        colorList = colorList + [colorPalette[idx]]*colorNum\n",
    "        \n",
    "    for i in range(len(cat_cols)-1):\n",
    "        if i==0:\n",
    "            sourceTargetDf = df[[cat_cols[i],cat_cols[i+1],value_cols]]\n",
    "            sourceTargetDf.columns = ['source','target','count']\n",
    "        else:\n",
    "            tempDf = df[[cat_cols[i],cat_cols[i+1],value_cols]]\n",
    "            tempDf.columns = ['source','target','count']\n",
    "            sourceTargetDf = pd.concat([sourceTargetDf,tempDf])\n",
    "        sourceTargetDf = sourceTargetDf.groupby(['source','target']).agg({'count':'sum'}).reset_index()\n",
    "        \n",
    "    sourceTargetDf['sourceID'] = sourceTargetDf['source'].apply(lambda x: labelList.index(x))\n",
    "    sourceTargetDf['targetID'] = sourceTargetDf['target'].apply(lambda x: labelList.index(x))\n",
    "    \n",
    "    data = dict(\n",
    "        type='sankey',\n",
    "        node = dict(\n",
    "          pad = 15,\n",
    "          thickness = 20,\n",
    "          line = dict(\n",
    "            color = \"black\",\n",
    "            width = 0.5\n",
    "          ),\n",
    "          label = labelList,\n",
    "          color = colorList\n",
    "        ),\n",
    "        link = dict(\n",
    "          source = sourceTargetDf['sourceID'],\n",
    "          target = sourceTargetDf['targetID'],\n",
    "          value = sourceTargetDf['count']\n",
    "        )\n",
    "      )\n",
    "    \n",
    "    layout =  dict(\n",
    "        title = title,\n",
    "        font = dict(\n",
    "          size = 10\n",
    "        )\n",
    "    )\n",
    "       \n",
    "    fig = dict(data=[data], layout=layout)\n",
    "    return fig"
   ]
  },
  {
   "cell_type": "code",
   "execution_count": 10,
   "id": "40dec912-3728-40be-a75f-6f29263ffb24",
   "metadata": {
    "tags": []
   },
   "outputs": [
    {
     "data": {
      "application/vnd.plotly.v1+json": {
       "config": {
        "linkText": "Export to plot.ly",
        "plotlyServerURL": "https://plot.ly",
        "showLink": false
       },
       "data": [
        {
         "link": {
          "source": [
           2,
           2,
           2,
           2,
           2,
           5,
           5,
           5,
           5,
           5,
           5,
           5,
           4,
           4,
           4,
           4,
           4,
           7,
           7,
           7,
           7,
           7,
           7,
           6,
           6,
           6,
           6,
           6,
           6,
           0,
           0,
           0,
           0,
           0,
           0,
           0,
           1,
           1,
           1,
           1,
           1,
           1,
           1,
           3,
           3,
           3,
           3,
           3,
           3
          ],
          "target": [
           5,
           4,
           0,
           1,
           3,
           2,
           4,
           7,
           6,
           0,
           1,
           3,
           2,
           5,
           0,
           1,
           3,
           2,
           5,
           4,
           0,
           1,
           3,
           2,
           5,
           4,
           0,
           1,
           3,
           2,
           5,
           4,
           7,
           6,
           1,
           3,
           2,
           5,
           4,
           7,
           6,
           0,
           3,
           2,
           5,
           4,
           6,
           0,
           1
          ],
          "value": [
           17,
           1434,
           693,
           94,
           365,
           235,
           644,
           44,
           58,
           127,
           727,
           89,
           709,
           25,
           959,
           141,
           526,
           7,
           10,
           17,
           8,
           11,
           3,
           14,
           3,
           16,
           6,
           12,
           6,
           1671,
           192,
           7871,
           14,
           26,
           602,
           969,
           675,
           466,
           1996,
           19,
           30,
           710,
           369,
           709,
           11,
           2259,
           1,
           811,
           120
          ]
         },
         "node": {
          "color": [
           "#4B8BBE",
           "#4B8BBE",
           "#4B8BBE",
           "#4B8BBE",
           "#4B8BBE",
           "#4B8BBE",
           "#4B8BBE",
           "#4B8BBE",
           "#306998",
           "#306998",
           "#306998",
           "#306998",
           "#306998",
           "#306998",
           "#306998",
           "#306998"
          ],
          "label": [
           "new customers",
           "potential loyalist",
           "about to sleep",
           "promising",
           "hibernating",
           "champions",
           "needing attention",
           "loyal customers"
          ],
          "line": {
           "color": "black",
           "width": 0.5
          },
          "pad": 15,
          "thickness": 20
         },
         "type": "sankey"
        }
       ],
       "layout": {
        "font": {
         "size": 10
        },
        "template": {
         "data": {
          "bar": [
           {
            "error_x": {
             "color": "#2a3f5f"
            },
            "error_y": {
             "color": "#2a3f5f"
            },
            "marker": {
             "line": {
              "color": "#E5ECF6",
              "width": 0.5
             },
             "pattern": {
              "fillmode": "overlay",
              "size": 10,
              "solidity": 0.2
             }
            },
            "type": "bar"
           }
          ],
          "barpolar": [
           {
            "marker": {
             "line": {
              "color": "#E5ECF6",
              "width": 0.5
             },
             "pattern": {
              "fillmode": "overlay",
              "size": 10,
              "solidity": 0.2
             }
            },
            "type": "barpolar"
           }
          ],
          "carpet": [
           {
            "aaxis": {
             "endlinecolor": "#2a3f5f",
             "gridcolor": "white",
             "linecolor": "white",
             "minorgridcolor": "white",
             "startlinecolor": "#2a3f5f"
            },
            "baxis": {
             "endlinecolor": "#2a3f5f",
             "gridcolor": "white",
             "linecolor": "white",
             "minorgridcolor": "white",
             "startlinecolor": "#2a3f5f"
            },
            "type": "carpet"
           }
          ],
          "choropleth": [
           {
            "colorbar": {
             "outlinewidth": 0,
             "ticks": ""
            },
            "type": "choropleth"
           }
          ],
          "contour": [
           {
            "colorbar": {
             "outlinewidth": 0,
             "ticks": ""
            },
            "colorscale": [
             [
              0,
              "#0d0887"
             ],
             [
              0.1111111111111111,
              "#46039f"
             ],
             [
              0.2222222222222222,
              "#7201a8"
             ],
             [
              0.3333333333333333,
              "#9c179e"
             ],
             [
              0.4444444444444444,
              "#bd3786"
             ],
             [
              0.5555555555555556,
              "#d8576b"
             ],
             [
              0.6666666666666666,
              "#ed7953"
             ],
             [
              0.7777777777777778,
              "#fb9f3a"
             ],
             [
              0.8888888888888888,
              "#fdca26"
             ],
             [
              1,
              "#f0f921"
             ]
            ],
            "type": "contour"
           }
          ],
          "contourcarpet": [
           {
            "colorbar": {
             "outlinewidth": 0,
             "ticks": ""
            },
            "type": "contourcarpet"
           }
          ],
          "heatmap": [
           {
            "colorbar": {
             "outlinewidth": 0,
             "ticks": ""
            },
            "colorscale": [
             [
              0,
              "#0d0887"
             ],
             [
              0.1111111111111111,
              "#46039f"
             ],
             [
              0.2222222222222222,
              "#7201a8"
             ],
             [
              0.3333333333333333,
              "#9c179e"
             ],
             [
              0.4444444444444444,
              "#bd3786"
             ],
             [
              0.5555555555555556,
              "#d8576b"
             ],
             [
              0.6666666666666666,
              "#ed7953"
             ],
             [
              0.7777777777777778,
              "#fb9f3a"
             ],
             [
              0.8888888888888888,
              "#fdca26"
             ],
             [
              1,
              "#f0f921"
             ]
            ],
            "type": "heatmap"
           }
          ],
          "heatmapgl": [
           {
            "colorbar": {
             "outlinewidth": 0,
             "ticks": ""
            },
            "colorscale": [
             [
              0,
              "#0d0887"
             ],
             [
              0.1111111111111111,
              "#46039f"
             ],
             [
              0.2222222222222222,
              "#7201a8"
             ],
             [
              0.3333333333333333,
              "#9c179e"
             ],
             [
              0.4444444444444444,
              "#bd3786"
             ],
             [
              0.5555555555555556,
              "#d8576b"
             ],
             [
              0.6666666666666666,
              "#ed7953"
             ],
             [
              0.7777777777777778,
              "#fb9f3a"
             ],
             [
              0.8888888888888888,
              "#fdca26"
             ],
             [
              1,
              "#f0f921"
             ]
            ],
            "type": "heatmapgl"
           }
          ],
          "histogram": [
           {
            "marker": {
             "pattern": {
              "fillmode": "overlay",
              "size": 10,
              "solidity": 0.2
             }
            },
            "type": "histogram"
           }
          ],
          "histogram2d": [
           {
            "colorbar": {
             "outlinewidth": 0,
             "ticks": ""
            },
            "colorscale": [
             [
              0,
              "#0d0887"
             ],
             [
              0.1111111111111111,
              "#46039f"
             ],
             [
              0.2222222222222222,
              "#7201a8"
             ],
             [
              0.3333333333333333,
              "#9c179e"
             ],
             [
              0.4444444444444444,
              "#bd3786"
             ],
             [
              0.5555555555555556,
              "#d8576b"
             ],
             [
              0.6666666666666666,
              "#ed7953"
             ],
             [
              0.7777777777777778,
              "#fb9f3a"
             ],
             [
              0.8888888888888888,
              "#fdca26"
             ],
             [
              1,
              "#f0f921"
             ]
            ],
            "type": "histogram2d"
           }
          ],
          "histogram2dcontour": [
           {
            "colorbar": {
             "outlinewidth": 0,
             "ticks": ""
            },
            "colorscale": [
             [
              0,
              "#0d0887"
             ],
             [
              0.1111111111111111,
              "#46039f"
             ],
             [
              0.2222222222222222,
              "#7201a8"
             ],
             [
              0.3333333333333333,
              "#9c179e"
             ],
             [
              0.4444444444444444,
              "#bd3786"
             ],
             [
              0.5555555555555556,
              "#d8576b"
             ],
             [
              0.6666666666666666,
              "#ed7953"
             ],
             [
              0.7777777777777778,
              "#fb9f3a"
             ],
             [
              0.8888888888888888,
              "#fdca26"
             ],
             [
              1,
              "#f0f921"
             ]
            ],
            "type": "histogram2dcontour"
           }
          ],
          "mesh3d": [
           {
            "colorbar": {
             "outlinewidth": 0,
             "ticks": ""
            },
            "type": "mesh3d"
           }
          ],
          "parcoords": [
           {
            "line": {
             "colorbar": {
              "outlinewidth": 0,
              "ticks": ""
             }
            },
            "type": "parcoords"
           }
          ],
          "pie": [
           {
            "automargin": true,
            "type": "pie"
           }
          ],
          "scatter": [
           {
            "fillpattern": {
             "fillmode": "overlay",
             "size": 10,
             "solidity": 0.2
            },
            "type": "scatter"
           }
          ],
          "scatter3d": [
           {
            "line": {
             "colorbar": {
              "outlinewidth": 0,
              "ticks": ""
             }
            },
            "marker": {
             "colorbar": {
              "outlinewidth": 0,
              "ticks": ""
             }
            },
            "type": "scatter3d"
           }
          ],
          "scattercarpet": [
           {
            "marker": {
             "colorbar": {
              "outlinewidth": 0,
              "ticks": ""
             }
            },
            "type": "scattercarpet"
           }
          ],
          "scattergeo": [
           {
            "marker": {
             "colorbar": {
              "outlinewidth": 0,
              "ticks": ""
             }
            },
            "type": "scattergeo"
           }
          ],
          "scattergl": [
           {
            "marker": {
             "colorbar": {
              "outlinewidth": 0,
              "ticks": ""
             }
            },
            "type": "scattergl"
           }
          ],
          "scattermapbox": [
           {
            "marker": {
             "colorbar": {
              "outlinewidth": 0,
              "ticks": ""
             }
            },
            "type": "scattermapbox"
           }
          ],
          "scatterpolar": [
           {
            "marker": {
             "colorbar": {
              "outlinewidth": 0,
              "ticks": ""
             }
            },
            "type": "scatterpolar"
           }
          ],
          "scatterpolargl": [
           {
            "marker": {
             "colorbar": {
              "outlinewidth": 0,
              "ticks": ""
             }
            },
            "type": "scatterpolargl"
           }
          ],
          "scatterternary": [
           {
            "marker": {
             "colorbar": {
              "outlinewidth": 0,
              "ticks": ""
             }
            },
            "type": "scatterternary"
           }
          ],
          "surface": [
           {
            "colorbar": {
             "outlinewidth": 0,
             "ticks": ""
            },
            "colorscale": [
             [
              0,
              "#0d0887"
             ],
             [
              0.1111111111111111,
              "#46039f"
             ],
             [
              0.2222222222222222,
              "#7201a8"
             ],
             [
              0.3333333333333333,
              "#9c179e"
             ],
             [
              0.4444444444444444,
              "#bd3786"
             ],
             [
              0.5555555555555556,
              "#d8576b"
             ],
             [
              0.6666666666666666,
              "#ed7953"
             ],
             [
              0.7777777777777778,
              "#fb9f3a"
             ],
             [
              0.8888888888888888,
              "#fdca26"
             ],
             [
              1,
              "#f0f921"
             ]
            ],
            "type": "surface"
           }
          ],
          "table": [
           {
            "cells": {
             "fill": {
              "color": "#EBF0F8"
             },
             "line": {
              "color": "white"
             }
            },
            "header": {
             "fill": {
              "color": "#C8D4E3"
             },
             "line": {
              "color": "white"
             }
            },
            "type": "table"
           }
          ]
         },
         "layout": {
          "annotationdefaults": {
           "arrowcolor": "#2a3f5f",
           "arrowhead": 0,
           "arrowwidth": 1
          },
          "autotypenumbers": "strict",
          "coloraxis": {
           "colorbar": {
            "outlinewidth": 0,
            "ticks": ""
           }
          },
          "colorscale": {
           "diverging": [
            [
             0,
             "#8e0152"
            ],
            [
             0.1,
             "#c51b7d"
            ],
            [
             0.2,
             "#de77ae"
            ],
            [
             0.3,
             "#f1b6da"
            ],
            [
             0.4,
             "#fde0ef"
            ],
            [
             0.5,
             "#f7f7f7"
            ],
            [
             0.6,
             "#e6f5d0"
            ],
            [
             0.7,
             "#b8e186"
            ],
            [
             0.8,
             "#7fbc41"
            ],
            [
             0.9,
             "#4d9221"
            ],
            [
             1,
             "#276419"
            ]
           ],
           "sequential": [
            [
             0,
             "#0d0887"
            ],
            [
             0.1111111111111111,
             "#46039f"
            ],
            [
             0.2222222222222222,
             "#7201a8"
            ],
            [
             0.3333333333333333,
             "#9c179e"
            ],
            [
             0.4444444444444444,
             "#bd3786"
            ],
            [
             0.5555555555555556,
             "#d8576b"
            ],
            [
             0.6666666666666666,
             "#ed7953"
            ],
            [
             0.7777777777777778,
             "#fb9f3a"
            ],
            [
             0.8888888888888888,
             "#fdca26"
            ],
            [
             1,
             "#f0f921"
            ]
           ],
           "sequentialminus": [
            [
             0,
             "#0d0887"
            ],
            [
             0.1111111111111111,
             "#46039f"
            ],
            [
             0.2222222222222222,
             "#7201a8"
            ],
            [
             0.3333333333333333,
             "#9c179e"
            ],
            [
             0.4444444444444444,
             "#bd3786"
            ],
            [
             0.5555555555555556,
             "#d8576b"
            ],
            [
             0.6666666666666666,
             "#ed7953"
            ],
            [
             0.7777777777777778,
             "#fb9f3a"
            ],
            [
             0.8888888888888888,
             "#fdca26"
            ],
            [
             1,
             "#f0f921"
            ]
           ]
          },
          "colorway": [
           "#636efa",
           "#EF553B",
           "#00cc96",
           "#ab63fa",
           "#FFA15A",
           "#19d3f3",
           "#FF6692",
           "#B6E880",
           "#FF97FF",
           "#FECB52"
          ],
          "font": {
           "color": "#2a3f5f"
          },
          "geo": {
           "bgcolor": "white",
           "lakecolor": "white",
           "landcolor": "#E5ECF6",
           "showlakes": true,
           "showland": true,
           "subunitcolor": "white"
          },
          "hoverlabel": {
           "align": "left"
          },
          "hovermode": "closest",
          "mapbox": {
           "style": "light"
          },
          "paper_bgcolor": "white",
          "plot_bgcolor": "#E5ECF6",
          "polar": {
           "angularaxis": {
            "gridcolor": "white",
            "linecolor": "white",
            "ticks": ""
           },
           "bgcolor": "#E5ECF6",
           "radialaxis": {
            "gridcolor": "white",
            "linecolor": "white",
            "ticks": ""
           }
          },
          "scene": {
           "xaxis": {
            "backgroundcolor": "#E5ECF6",
            "gridcolor": "white",
            "gridwidth": 2,
            "linecolor": "white",
            "showbackground": true,
            "ticks": "",
            "zerolinecolor": "white"
           },
           "yaxis": {
            "backgroundcolor": "#E5ECF6",
            "gridcolor": "white",
            "gridwidth": 2,
            "linecolor": "white",
            "showbackground": true,
            "ticks": "",
            "zerolinecolor": "white"
           },
           "zaxis": {
            "backgroundcolor": "#E5ECF6",
            "gridcolor": "white",
            "gridwidth": 2,
            "linecolor": "white",
            "showbackground": true,
            "ticks": "",
            "zerolinecolor": "white"
           }
          },
          "shapedefaults": {
           "line": {
            "color": "#2a3f5f"
           }
          },
          "ternary": {
           "aaxis": {
            "gridcolor": "white",
            "linecolor": "white",
            "ticks": ""
           },
           "baxis": {
            "gridcolor": "white",
            "linecolor": "white",
            "ticks": ""
           },
           "bgcolor": "#E5ECF6",
           "caxis": {
            "gridcolor": "white",
            "linecolor": "white",
            "ticks": ""
           }
          },
          "title": {
           "x": 0.05
          },
          "xaxis": {
           "automargin": true,
           "gridcolor": "white",
           "linecolor": "white",
           "ticks": "",
           "title": {
            "standoff": 15
           },
           "zerolinecolor": "white",
           "zerolinewidth": 2
          },
          "yaxis": {
           "automargin": true,
           "gridcolor": "white",
           "linecolor": "white",
           "ticks": "",
           "title": {
            "standoff": 15
           },
           "zerolinecolor": "white",
           "zerolinewidth": 2
          }
         }
        },
        "title": {
         "text": "Transactions"
        }
       }
      },
      "text/html": [
       "<div>                            <div id=\"5651e2e0-c47d-4b7f-848f-e08302b8fd82\" class=\"plotly-graph-div\" style=\"height:525px; width:100%;\"></div>            <script type=\"text/javascript\">                require([\"plotly\"], function(Plotly) {                    window.PLOTLYENV=window.PLOTLYENV || {};                                    if (document.getElementById(\"5651e2e0-c47d-4b7f-848f-e08302b8fd82\")) {                    Plotly.newPlot(                        \"5651e2e0-c47d-4b7f-848f-e08302b8fd82\",                        [{\"link\":{\"source\":[2,2,2,2,2,5,5,5,5,5,5,5,4,4,4,4,4,7,7,7,7,7,7,6,6,6,6,6,6,0,0,0,0,0,0,0,1,1,1,1,1,1,1,3,3,3,3,3,3],\"target\":[5,4,0,1,3,2,4,7,6,0,1,3,2,5,0,1,3,2,5,4,0,1,3,2,5,4,0,1,3,2,5,4,7,6,1,3,2,5,4,7,6,0,3,2,5,4,6,0,1],\"value\":[17,1434,693,94,365,235,644,44,58,127,727,89,709,25,959,141,526,7,10,17,8,11,3,14,3,16,6,12,6,1671,192,7871,14,26,602,969,675,466,1996,19,30,710,369,709,11,2259,1,811,120]},\"node\":{\"color\":[\"#4B8BBE\",\"#4B8BBE\",\"#4B8BBE\",\"#4B8BBE\",\"#4B8BBE\",\"#4B8BBE\",\"#4B8BBE\",\"#4B8BBE\",\"#306998\",\"#306998\",\"#306998\",\"#306998\",\"#306998\",\"#306998\",\"#306998\",\"#306998\"],\"label\":[\"new customers\",\"potential loyalist\",\"about to sleep\",\"promising\",\"hibernating\",\"champions\",\"needing attention\",\"loyal customers\"],\"line\":{\"color\":\"black\",\"width\":0.5},\"pad\":15,\"thickness\":20},\"type\":\"sankey\"}],                        {\"font\":{\"size\":10},\"template\":{\"data\":{\"barpolar\":[{\"marker\":{\"line\":{\"color\":\"#E5ECF6\",\"width\":0.5},\"pattern\":{\"fillmode\":\"overlay\",\"size\":10,\"solidity\":0.2}},\"type\":\"barpolar\"}],\"bar\":[{\"error_x\":{\"color\":\"#2a3f5f\"},\"error_y\":{\"color\":\"#2a3f5f\"},\"marker\":{\"line\":{\"color\":\"#E5ECF6\",\"width\":0.5},\"pattern\":{\"fillmode\":\"overlay\",\"size\":10,\"solidity\":0.2}},\"type\":\"bar\"}],\"carpet\":[{\"aaxis\":{\"endlinecolor\":\"#2a3f5f\",\"gridcolor\":\"white\",\"linecolor\":\"white\",\"minorgridcolor\":\"white\",\"startlinecolor\":\"#2a3f5f\"},\"baxis\":{\"endlinecolor\":\"#2a3f5f\",\"gridcolor\":\"white\",\"linecolor\":\"white\",\"minorgridcolor\":\"white\",\"startlinecolor\":\"#2a3f5f\"},\"type\":\"carpet\"}],\"choropleth\":[{\"colorbar\":{\"outlinewidth\":0,\"ticks\":\"\"},\"type\":\"choropleth\"}],\"contourcarpet\":[{\"colorbar\":{\"outlinewidth\":0,\"ticks\":\"\"},\"type\":\"contourcarpet\"}],\"contour\":[{\"colorbar\":{\"outlinewidth\":0,\"ticks\":\"\"},\"colorscale\":[[0.0,\"#0d0887\"],[0.1111111111111111,\"#46039f\"],[0.2222222222222222,\"#7201a8\"],[0.3333333333333333,\"#9c179e\"],[0.4444444444444444,\"#bd3786\"],[0.5555555555555556,\"#d8576b\"],[0.6666666666666666,\"#ed7953\"],[0.7777777777777778,\"#fb9f3a\"],[0.8888888888888888,\"#fdca26\"],[1.0,\"#f0f921\"]],\"type\":\"contour\"}],\"heatmapgl\":[{\"colorbar\":{\"outlinewidth\":0,\"ticks\":\"\"},\"colorscale\":[[0.0,\"#0d0887\"],[0.1111111111111111,\"#46039f\"],[0.2222222222222222,\"#7201a8\"],[0.3333333333333333,\"#9c179e\"],[0.4444444444444444,\"#bd3786\"],[0.5555555555555556,\"#d8576b\"],[0.6666666666666666,\"#ed7953\"],[0.7777777777777778,\"#fb9f3a\"],[0.8888888888888888,\"#fdca26\"],[1.0,\"#f0f921\"]],\"type\":\"heatmapgl\"}],\"heatmap\":[{\"colorbar\":{\"outlinewidth\":0,\"ticks\":\"\"},\"colorscale\":[[0.0,\"#0d0887\"],[0.1111111111111111,\"#46039f\"],[0.2222222222222222,\"#7201a8\"],[0.3333333333333333,\"#9c179e\"],[0.4444444444444444,\"#bd3786\"],[0.5555555555555556,\"#d8576b\"],[0.6666666666666666,\"#ed7953\"],[0.7777777777777778,\"#fb9f3a\"],[0.8888888888888888,\"#fdca26\"],[1.0,\"#f0f921\"]],\"type\":\"heatmap\"}],\"histogram2dcontour\":[{\"colorbar\":{\"outlinewidth\":0,\"ticks\":\"\"},\"colorscale\":[[0.0,\"#0d0887\"],[0.1111111111111111,\"#46039f\"],[0.2222222222222222,\"#7201a8\"],[0.3333333333333333,\"#9c179e\"],[0.4444444444444444,\"#bd3786\"],[0.5555555555555556,\"#d8576b\"],[0.6666666666666666,\"#ed7953\"],[0.7777777777777778,\"#fb9f3a\"],[0.8888888888888888,\"#fdca26\"],[1.0,\"#f0f921\"]],\"type\":\"histogram2dcontour\"}],\"histogram2d\":[{\"colorbar\":{\"outlinewidth\":0,\"ticks\":\"\"},\"colorscale\":[[0.0,\"#0d0887\"],[0.1111111111111111,\"#46039f\"],[0.2222222222222222,\"#7201a8\"],[0.3333333333333333,\"#9c179e\"],[0.4444444444444444,\"#bd3786\"],[0.5555555555555556,\"#d8576b\"],[0.6666666666666666,\"#ed7953\"],[0.7777777777777778,\"#fb9f3a\"],[0.8888888888888888,\"#fdca26\"],[1.0,\"#f0f921\"]],\"type\":\"histogram2d\"}],\"histogram\":[{\"marker\":{\"pattern\":{\"fillmode\":\"overlay\",\"size\":10,\"solidity\":0.2}},\"type\":\"histogram\"}],\"mesh3d\":[{\"colorbar\":{\"outlinewidth\":0,\"ticks\":\"\"},\"type\":\"mesh3d\"}],\"parcoords\":[{\"line\":{\"colorbar\":{\"outlinewidth\":0,\"ticks\":\"\"}},\"type\":\"parcoords\"}],\"pie\":[{\"automargin\":true,\"type\":\"pie\"}],\"scatter3d\":[{\"line\":{\"colorbar\":{\"outlinewidth\":0,\"ticks\":\"\"}},\"marker\":{\"colorbar\":{\"outlinewidth\":0,\"ticks\":\"\"}},\"type\":\"scatter3d\"}],\"scattercarpet\":[{\"marker\":{\"colorbar\":{\"outlinewidth\":0,\"ticks\":\"\"}},\"type\":\"scattercarpet\"}],\"scattergeo\":[{\"marker\":{\"colorbar\":{\"outlinewidth\":0,\"ticks\":\"\"}},\"type\":\"scattergeo\"}],\"scattergl\":[{\"marker\":{\"colorbar\":{\"outlinewidth\":0,\"ticks\":\"\"}},\"type\":\"scattergl\"}],\"scattermapbox\":[{\"marker\":{\"colorbar\":{\"outlinewidth\":0,\"ticks\":\"\"}},\"type\":\"scattermapbox\"}],\"scatterpolargl\":[{\"marker\":{\"colorbar\":{\"outlinewidth\":0,\"ticks\":\"\"}},\"type\":\"scatterpolargl\"}],\"scatterpolar\":[{\"marker\":{\"colorbar\":{\"outlinewidth\":0,\"ticks\":\"\"}},\"type\":\"scatterpolar\"}],\"scatter\":[{\"fillpattern\":{\"fillmode\":\"overlay\",\"size\":10,\"solidity\":0.2},\"type\":\"scatter\"}],\"scatterternary\":[{\"marker\":{\"colorbar\":{\"outlinewidth\":0,\"ticks\":\"\"}},\"type\":\"scatterternary\"}],\"surface\":[{\"colorbar\":{\"outlinewidth\":0,\"ticks\":\"\"},\"colorscale\":[[0.0,\"#0d0887\"],[0.1111111111111111,\"#46039f\"],[0.2222222222222222,\"#7201a8\"],[0.3333333333333333,\"#9c179e\"],[0.4444444444444444,\"#bd3786\"],[0.5555555555555556,\"#d8576b\"],[0.6666666666666666,\"#ed7953\"],[0.7777777777777778,\"#fb9f3a\"],[0.8888888888888888,\"#fdca26\"],[1.0,\"#f0f921\"]],\"type\":\"surface\"}],\"table\":[{\"cells\":{\"fill\":{\"color\":\"#EBF0F8\"},\"line\":{\"color\":\"white\"}},\"header\":{\"fill\":{\"color\":\"#C8D4E3\"},\"line\":{\"color\":\"white\"}},\"type\":\"table\"}]},\"layout\":{\"annotationdefaults\":{\"arrowcolor\":\"#2a3f5f\",\"arrowhead\":0,\"arrowwidth\":1},\"autotypenumbers\":\"strict\",\"coloraxis\":{\"colorbar\":{\"outlinewidth\":0,\"ticks\":\"\"}},\"colorscale\":{\"diverging\":[[0,\"#8e0152\"],[0.1,\"#c51b7d\"],[0.2,\"#de77ae\"],[0.3,\"#f1b6da\"],[0.4,\"#fde0ef\"],[0.5,\"#f7f7f7\"],[0.6,\"#e6f5d0\"],[0.7,\"#b8e186\"],[0.8,\"#7fbc41\"],[0.9,\"#4d9221\"],[1,\"#276419\"]],\"sequential\":[[0.0,\"#0d0887\"],[0.1111111111111111,\"#46039f\"],[0.2222222222222222,\"#7201a8\"],[0.3333333333333333,\"#9c179e\"],[0.4444444444444444,\"#bd3786\"],[0.5555555555555556,\"#d8576b\"],[0.6666666666666666,\"#ed7953\"],[0.7777777777777778,\"#fb9f3a\"],[0.8888888888888888,\"#fdca26\"],[1.0,\"#f0f921\"]],\"sequentialminus\":[[0.0,\"#0d0887\"],[0.1111111111111111,\"#46039f\"],[0.2222222222222222,\"#7201a8\"],[0.3333333333333333,\"#9c179e\"],[0.4444444444444444,\"#bd3786\"],[0.5555555555555556,\"#d8576b\"],[0.6666666666666666,\"#ed7953\"],[0.7777777777777778,\"#fb9f3a\"],[0.8888888888888888,\"#fdca26\"],[1.0,\"#f0f921\"]]},\"colorway\":[\"#636efa\",\"#EF553B\",\"#00cc96\",\"#ab63fa\",\"#FFA15A\",\"#19d3f3\",\"#FF6692\",\"#B6E880\",\"#FF97FF\",\"#FECB52\"],\"font\":{\"color\":\"#2a3f5f\"},\"geo\":{\"bgcolor\":\"white\",\"lakecolor\":\"white\",\"landcolor\":\"#E5ECF6\",\"showlakes\":true,\"showland\":true,\"subunitcolor\":\"white\"},\"hoverlabel\":{\"align\":\"left\"},\"hovermode\":\"closest\",\"mapbox\":{\"style\":\"light\"},\"paper_bgcolor\":\"white\",\"plot_bgcolor\":\"#E5ECF6\",\"polar\":{\"angularaxis\":{\"gridcolor\":\"white\",\"linecolor\":\"white\",\"ticks\":\"\"},\"bgcolor\":\"#E5ECF6\",\"radialaxis\":{\"gridcolor\":\"white\",\"linecolor\":\"white\",\"ticks\":\"\"}},\"scene\":{\"xaxis\":{\"backgroundcolor\":\"#E5ECF6\",\"gridcolor\":\"white\",\"gridwidth\":2,\"linecolor\":\"white\",\"showbackground\":true,\"ticks\":\"\",\"zerolinecolor\":\"white\"},\"yaxis\":{\"backgroundcolor\":\"#E5ECF6\",\"gridcolor\":\"white\",\"gridwidth\":2,\"linecolor\":\"white\",\"showbackground\":true,\"ticks\":\"\",\"zerolinecolor\":\"white\"},\"zaxis\":{\"backgroundcolor\":\"#E5ECF6\",\"gridcolor\":\"white\",\"gridwidth\":2,\"linecolor\":\"white\",\"showbackground\":true,\"ticks\":\"\",\"zerolinecolor\":\"white\"}},\"shapedefaults\":{\"line\":{\"color\":\"#2a3f5f\"}},\"ternary\":{\"aaxis\":{\"gridcolor\":\"white\",\"linecolor\":\"white\",\"ticks\":\"\"},\"baxis\":{\"gridcolor\":\"white\",\"linecolor\":\"white\",\"ticks\":\"\"},\"bgcolor\":\"#E5ECF6\",\"caxis\":{\"gridcolor\":\"white\",\"linecolor\":\"white\",\"ticks\":\"\"}},\"title\":{\"x\":0.05},\"xaxis\":{\"automargin\":true,\"gridcolor\":\"white\",\"linecolor\":\"white\",\"ticks\":\"\",\"title\":{\"standoff\":15},\"zerolinecolor\":\"white\",\"zerolinewidth\":2},\"yaxis\":{\"automargin\":true,\"gridcolor\":\"white\",\"linecolor\":\"white\",\"ticks\":\"\",\"title\":{\"standoff\":15},\"zerolinecolor\":\"white\",\"zerolinewidth\":2}}},\"title\":{\"text\":\"Transactions\"}},                        {\"responsive\": true}                    ).then(function(){\n",
       "                            \n",
       "var gd = document.getElementById('5651e2e0-c47d-4b7f-848f-e08302b8fd82');\n",
       "var x = new MutationObserver(function (mutations, observer) {{\n",
       "        var display = window.getComputedStyle(gd).display;\n",
       "        if (!display || display === 'none') {{\n",
       "            console.log([gd, 'removed!']);\n",
       "            Plotly.purge(gd);\n",
       "            observer.disconnect();\n",
       "        }}\n",
       "}});\n",
       "\n",
       "// Listen for the removal of the full notebook cells\n",
       "var notebookContainer = gd.closest('#notebook-container');\n",
       "if (notebookContainer) {{\n",
       "    x.observe(notebookContainer, {childList: true});\n",
       "}}\n",
       "\n",
       "// Listen for the clearing of the current output cell\n",
       "var outputEl = gd.closest('.output');\n",
       "if (outputEl) {{\n",
       "    x.observe(outputEl, {childList: true});\n",
       "}}\n",
       "\n",
       "                        })                };                });            </script>        </div>"
      ]
     },
     "metadata": {},
     "output_type": "display_data"
    }
   ],
   "source": [
    "sank = genSankey(df,cat_cols=['source','target'],value_cols='weight',title='Transactions')\n",
    "fig = go.Figure(sank)\n",
    "iplot(fig)"
   ]
  },
  {
   "cell_type": "code",
   "execution_count": 12,
   "id": "2102ec4a-566e-4269-b81e-6f9d1aee534e",
   "metadata": {},
   "outputs": [
    {
     "data": {
      "application/vnd.plotly.v1+json": {
       "config": {
        "linkText": "Export to plot.ly",
        "plotlyServerURL": "https://plot.ly",
        "showLink": false
       },
       "data": [
        {
         "link": {
          "source": [
           2,
           2,
           2,
           2,
           2,
           5,
           5,
           5,
           5,
           5,
           5,
           5,
           4,
           4,
           4,
           4,
           4,
           7,
           7,
           7,
           7,
           7,
           7,
           6,
           6,
           6,
           6,
           6,
           6,
           0,
           0,
           0,
           0,
           0,
           0,
           0,
           1,
           1,
           1,
           1,
           1,
           1,
           1,
           3,
           3,
           3,
           3,
           3,
           3
          ],
          "target": [
           5,
           4,
           0,
           1,
           3,
           2,
           4,
           7,
           6,
           0,
           1,
           3,
           2,
           5,
           0,
           1,
           3,
           2,
           5,
           4,
           0,
           1,
           3,
           2,
           5,
           4,
           0,
           1,
           3,
           2,
           5,
           4,
           7,
           6,
           1,
           3,
           2,
           5,
           4,
           7,
           6,
           0,
           3,
           2,
           5,
           4,
           6,
           0,
           1
          ],
          "value": [
           17,
           1434,
           693,
           94,
           365,
           235,
           644,
           44,
           58,
           127,
           727,
           89,
           709,
           25,
           959,
           141,
           526,
           7,
           10,
           17,
           8,
           11,
           3,
           14,
           3,
           16,
           6,
           12,
           6,
           1671,
           192,
           7871,
           14,
           26,
           602,
           969,
           675,
           466,
           1996,
           19,
           30,
           710,
           369,
           709,
           11,
           2259,
           1,
           811,
           120
          ]
         },
         "node": {
          "color": [
           "#4B8BBE",
           "#4B8BBE",
           "#4B8BBE",
           "#4B8BBE",
           "#4B8BBE",
           "#4B8BBE",
           "#4B8BBE",
           "#4B8BBE",
           "#306998",
           "#306998",
           "#306998",
           "#306998",
           "#306998",
           "#306998",
           "#306998",
           "#306998"
          ],
          "label": [
           "new customers",
           "potential loyalist",
           "about to sleep",
           "promising",
           "hibernating",
           "champions",
           "needing attention",
           "loyal customers"
          ],
          "line": {
           "color": "black",
           "width": 0.5
          },
          "pad": 15,
          "thickness": 20
         },
         "type": "sankey"
        }
       ],
       "layout": {
        "font": {
         "size": 10
        },
        "template": {
         "data": {
          "bar": [
           {
            "error_x": {
             "color": "#2a3f5f"
            },
            "error_y": {
             "color": "#2a3f5f"
            },
            "marker": {
             "line": {
              "color": "#E5ECF6",
              "width": 0.5
             },
             "pattern": {
              "fillmode": "overlay",
              "size": 10,
              "solidity": 0.2
             }
            },
            "type": "bar"
           }
          ],
          "barpolar": [
           {
            "marker": {
             "line": {
              "color": "#E5ECF6",
              "width": 0.5
             },
             "pattern": {
              "fillmode": "overlay",
              "size": 10,
              "solidity": 0.2
             }
            },
            "type": "barpolar"
           }
          ],
          "carpet": [
           {
            "aaxis": {
             "endlinecolor": "#2a3f5f",
             "gridcolor": "white",
             "linecolor": "white",
             "minorgridcolor": "white",
             "startlinecolor": "#2a3f5f"
            },
            "baxis": {
             "endlinecolor": "#2a3f5f",
             "gridcolor": "white",
             "linecolor": "white",
             "minorgridcolor": "white",
             "startlinecolor": "#2a3f5f"
            },
            "type": "carpet"
           }
          ],
          "choropleth": [
           {
            "colorbar": {
             "outlinewidth": 0,
             "ticks": ""
            },
            "type": "choropleth"
           }
          ],
          "contour": [
           {
            "colorbar": {
             "outlinewidth": 0,
             "ticks": ""
            },
            "colorscale": [
             [
              0,
              "#0d0887"
             ],
             [
              0.1111111111111111,
              "#46039f"
             ],
             [
              0.2222222222222222,
              "#7201a8"
             ],
             [
              0.3333333333333333,
              "#9c179e"
             ],
             [
              0.4444444444444444,
              "#bd3786"
             ],
             [
              0.5555555555555556,
              "#d8576b"
             ],
             [
              0.6666666666666666,
              "#ed7953"
             ],
             [
              0.7777777777777778,
              "#fb9f3a"
             ],
             [
              0.8888888888888888,
              "#fdca26"
             ],
             [
              1,
              "#f0f921"
             ]
            ],
            "type": "contour"
           }
          ],
          "contourcarpet": [
           {
            "colorbar": {
             "outlinewidth": 0,
             "ticks": ""
            },
            "type": "contourcarpet"
           }
          ],
          "heatmap": [
           {
            "colorbar": {
             "outlinewidth": 0,
             "ticks": ""
            },
            "colorscale": [
             [
              0,
              "#0d0887"
             ],
             [
              0.1111111111111111,
              "#46039f"
             ],
             [
              0.2222222222222222,
              "#7201a8"
             ],
             [
              0.3333333333333333,
              "#9c179e"
             ],
             [
              0.4444444444444444,
              "#bd3786"
             ],
             [
              0.5555555555555556,
              "#d8576b"
             ],
             [
              0.6666666666666666,
              "#ed7953"
             ],
             [
              0.7777777777777778,
              "#fb9f3a"
             ],
             [
              0.8888888888888888,
              "#fdca26"
             ],
             [
              1,
              "#f0f921"
             ]
            ],
            "type": "heatmap"
           }
          ],
          "heatmapgl": [
           {
            "colorbar": {
             "outlinewidth": 0,
             "ticks": ""
            },
            "colorscale": [
             [
              0,
              "#0d0887"
             ],
             [
              0.1111111111111111,
              "#46039f"
             ],
             [
              0.2222222222222222,
              "#7201a8"
             ],
             [
              0.3333333333333333,
              "#9c179e"
             ],
             [
              0.4444444444444444,
              "#bd3786"
             ],
             [
              0.5555555555555556,
              "#d8576b"
             ],
             [
              0.6666666666666666,
              "#ed7953"
             ],
             [
              0.7777777777777778,
              "#fb9f3a"
             ],
             [
              0.8888888888888888,
              "#fdca26"
             ],
             [
              1,
              "#f0f921"
             ]
            ],
            "type": "heatmapgl"
           }
          ],
          "histogram": [
           {
            "marker": {
             "pattern": {
              "fillmode": "overlay",
              "size": 10,
              "solidity": 0.2
             }
            },
            "type": "histogram"
           }
          ],
          "histogram2d": [
           {
            "colorbar": {
             "outlinewidth": 0,
             "ticks": ""
            },
            "colorscale": [
             [
              0,
              "#0d0887"
             ],
             [
              0.1111111111111111,
              "#46039f"
             ],
             [
              0.2222222222222222,
              "#7201a8"
             ],
             [
              0.3333333333333333,
              "#9c179e"
             ],
             [
              0.4444444444444444,
              "#bd3786"
             ],
             [
              0.5555555555555556,
              "#d8576b"
             ],
             [
              0.6666666666666666,
              "#ed7953"
             ],
             [
              0.7777777777777778,
              "#fb9f3a"
             ],
             [
              0.8888888888888888,
              "#fdca26"
             ],
             [
              1,
              "#f0f921"
             ]
            ],
            "type": "histogram2d"
           }
          ],
          "histogram2dcontour": [
           {
            "colorbar": {
             "outlinewidth": 0,
             "ticks": ""
            },
            "colorscale": [
             [
              0,
              "#0d0887"
             ],
             [
              0.1111111111111111,
              "#46039f"
             ],
             [
              0.2222222222222222,
              "#7201a8"
             ],
             [
              0.3333333333333333,
              "#9c179e"
             ],
             [
              0.4444444444444444,
              "#bd3786"
             ],
             [
              0.5555555555555556,
              "#d8576b"
             ],
             [
              0.6666666666666666,
              "#ed7953"
             ],
             [
              0.7777777777777778,
              "#fb9f3a"
             ],
             [
              0.8888888888888888,
              "#fdca26"
             ],
             [
              1,
              "#f0f921"
             ]
            ],
            "type": "histogram2dcontour"
           }
          ],
          "mesh3d": [
           {
            "colorbar": {
             "outlinewidth": 0,
             "ticks": ""
            },
            "type": "mesh3d"
           }
          ],
          "parcoords": [
           {
            "line": {
             "colorbar": {
              "outlinewidth": 0,
              "ticks": ""
             }
            },
            "type": "parcoords"
           }
          ],
          "pie": [
           {
            "automargin": true,
            "type": "pie"
           }
          ],
          "scatter": [
           {
            "fillpattern": {
             "fillmode": "overlay",
             "size": 10,
             "solidity": 0.2
            },
            "type": "scatter"
           }
          ],
          "scatter3d": [
           {
            "line": {
             "colorbar": {
              "outlinewidth": 0,
              "ticks": ""
             }
            },
            "marker": {
             "colorbar": {
              "outlinewidth": 0,
              "ticks": ""
             }
            },
            "type": "scatter3d"
           }
          ],
          "scattercarpet": [
           {
            "marker": {
             "colorbar": {
              "outlinewidth": 0,
              "ticks": ""
             }
            },
            "type": "scattercarpet"
           }
          ],
          "scattergeo": [
           {
            "marker": {
             "colorbar": {
              "outlinewidth": 0,
              "ticks": ""
             }
            },
            "type": "scattergeo"
           }
          ],
          "scattergl": [
           {
            "marker": {
             "colorbar": {
              "outlinewidth": 0,
              "ticks": ""
             }
            },
            "type": "scattergl"
           }
          ],
          "scattermapbox": [
           {
            "marker": {
             "colorbar": {
              "outlinewidth": 0,
              "ticks": ""
             }
            },
            "type": "scattermapbox"
           }
          ],
          "scatterpolar": [
           {
            "marker": {
             "colorbar": {
              "outlinewidth": 0,
              "ticks": ""
             }
            },
            "type": "scatterpolar"
           }
          ],
          "scatterpolargl": [
           {
            "marker": {
             "colorbar": {
              "outlinewidth": 0,
              "ticks": ""
             }
            },
            "type": "scatterpolargl"
           }
          ],
          "scatterternary": [
           {
            "marker": {
             "colorbar": {
              "outlinewidth": 0,
              "ticks": ""
             }
            },
            "type": "scatterternary"
           }
          ],
          "surface": [
           {
            "colorbar": {
             "outlinewidth": 0,
             "ticks": ""
            },
            "colorscale": [
             [
              0,
              "#0d0887"
             ],
             [
              0.1111111111111111,
              "#46039f"
             ],
             [
              0.2222222222222222,
              "#7201a8"
             ],
             [
              0.3333333333333333,
              "#9c179e"
             ],
             [
              0.4444444444444444,
              "#bd3786"
             ],
             [
              0.5555555555555556,
              "#d8576b"
             ],
             [
              0.6666666666666666,
              "#ed7953"
             ],
             [
              0.7777777777777778,
              "#fb9f3a"
             ],
             [
              0.8888888888888888,
              "#fdca26"
             ],
             [
              1,
              "#f0f921"
             ]
            ],
            "type": "surface"
           }
          ],
          "table": [
           {
            "cells": {
             "fill": {
              "color": "#EBF0F8"
             },
             "line": {
              "color": "white"
             }
            },
            "header": {
             "fill": {
              "color": "#C8D4E3"
             },
             "line": {
              "color": "white"
             }
            },
            "type": "table"
           }
          ]
         },
         "layout": {
          "annotationdefaults": {
           "arrowcolor": "#2a3f5f",
           "arrowhead": 0,
           "arrowwidth": 1
          },
          "autotypenumbers": "strict",
          "coloraxis": {
           "colorbar": {
            "outlinewidth": 0,
            "ticks": ""
           }
          },
          "colorscale": {
           "diverging": [
            [
             0,
             "#8e0152"
            ],
            [
             0.1,
             "#c51b7d"
            ],
            [
             0.2,
             "#de77ae"
            ],
            [
             0.3,
             "#f1b6da"
            ],
            [
             0.4,
             "#fde0ef"
            ],
            [
             0.5,
             "#f7f7f7"
            ],
            [
             0.6,
             "#e6f5d0"
            ],
            [
             0.7,
             "#b8e186"
            ],
            [
             0.8,
             "#7fbc41"
            ],
            [
             0.9,
             "#4d9221"
            ],
            [
             1,
             "#276419"
            ]
           ],
           "sequential": [
            [
             0,
             "#0d0887"
            ],
            [
             0.1111111111111111,
             "#46039f"
            ],
            [
             0.2222222222222222,
             "#7201a8"
            ],
            [
             0.3333333333333333,
             "#9c179e"
            ],
            [
             0.4444444444444444,
             "#bd3786"
            ],
            [
             0.5555555555555556,
             "#d8576b"
            ],
            [
             0.6666666666666666,
             "#ed7953"
            ],
            [
             0.7777777777777778,
             "#fb9f3a"
            ],
            [
             0.8888888888888888,
             "#fdca26"
            ],
            [
             1,
             "#f0f921"
            ]
           ],
           "sequentialminus": [
            [
             0,
             "#0d0887"
            ],
            [
             0.1111111111111111,
             "#46039f"
            ],
            [
             0.2222222222222222,
             "#7201a8"
            ],
            [
             0.3333333333333333,
             "#9c179e"
            ],
            [
             0.4444444444444444,
             "#bd3786"
            ],
            [
             0.5555555555555556,
             "#d8576b"
            ],
            [
             0.6666666666666666,
             "#ed7953"
            ],
            [
             0.7777777777777778,
             "#fb9f3a"
            ],
            [
             0.8888888888888888,
             "#fdca26"
            ],
            [
             1,
             "#f0f921"
            ]
           ]
          },
          "colorway": [
           "#636efa",
           "#EF553B",
           "#00cc96",
           "#ab63fa",
           "#FFA15A",
           "#19d3f3",
           "#FF6692",
           "#B6E880",
           "#FF97FF",
           "#FECB52"
          ],
          "font": {
           "color": "#2a3f5f"
          },
          "geo": {
           "bgcolor": "white",
           "lakecolor": "white",
           "landcolor": "#E5ECF6",
           "showlakes": true,
           "showland": true,
           "subunitcolor": "white"
          },
          "hoverlabel": {
           "align": "left"
          },
          "hovermode": "closest",
          "mapbox": {
           "style": "light"
          },
          "paper_bgcolor": "white",
          "plot_bgcolor": "#E5ECF6",
          "polar": {
           "angularaxis": {
            "gridcolor": "white",
            "linecolor": "white",
            "ticks": ""
           },
           "bgcolor": "#E5ECF6",
           "radialaxis": {
            "gridcolor": "white",
            "linecolor": "white",
            "ticks": ""
           }
          },
          "scene": {
           "xaxis": {
            "backgroundcolor": "#E5ECF6",
            "gridcolor": "white",
            "gridwidth": 2,
            "linecolor": "white",
            "showbackground": true,
            "ticks": "",
            "zerolinecolor": "white"
           },
           "yaxis": {
            "backgroundcolor": "#E5ECF6",
            "gridcolor": "white",
            "gridwidth": 2,
            "linecolor": "white",
            "showbackground": true,
            "ticks": "",
            "zerolinecolor": "white"
           },
           "zaxis": {
            "backgroundcolor": "#E5ECF6",
            "gridcolor": "white",
            "gridwidth": 2,
            "linecolor": "white",
            "showbackground": true,
            "ticks": "",
            "zerolinecolor": "white"
           }
          },
          "shapedefaults": {
           "line": {
            "color": "#2a3f5f"
           }
          },
          "ternary": {
           "aaxis": {
            "gridcolor": "white",
            "linecolor": "white",
            "ticks": ""
           },
           "baxis": {
            "gridcolor": "white",
            "linecolor": "white",
            "ticks": ""
           },
           "bgcolor": "#E5ECF6",
           "caxis": {
            "gridcolor": "white",
            "linecolor": "white",
            "ticks": ""
           }
          },
          "title": {
           "x": 0.05
          },
          "xaxis": {
           "automargin": true,
           "gridcolor": "white",
           "linecolor": "white",
           "ticks": "",
           "title": {
            "standoff": 15
           },
           "zerolinecolor": "white",
           "zerolinewidth": 2
          },
          "yaxis": {
           "automargin": true,
           "gridcolor": "white",
           "linecolor": "white",
           "ticks": "",
           "title": {
            "standoff": 15
           },
           "zerolinecolor": "white",
           "zerolinewidth": 2
          }
         }
        },
        "title": {
         "text": "Transactions"
        },
        "updatemenus": [
         {
          "buttons": [
           {
            "args": [
             {
              "data": [
               {
                "link": {
                 "source": [
                  2,
                  2,
                  2,
                  2,
                  2,
                  5,
                  5,
                  5,
                  5,
                  5,
                  5,
                  5,
                  4,
                  4,
                  4,
                  4,
                  4,
                  7,
                  7,
                  7,
                  7,
                  7,
                  7,
                  6,
                  6,
                  6,
                  6,
                  6,
                  6,
                  0,
                  0,
                  0,
                  0,
                  0,
                  0,
                  0,
                  1,
                  1,
                  1,
                  1,
                  1,
                  1,
                  1,
                  3,
                  3,
                  3,
                  3,
                  3,
                  3
                 ],
                 "target": [
                  5,
                  4,
                  0,
                  1,
                  3,
                  2,
                  4,
                  7,
                  6,
                  0,
                  1,
                  3,
                  2,
                  5,
                  0,
                  1,
                  3,
                  2,
                  5,
                  4,
                  0,
                  1,
                  3,
                  2,
                  5,
                  4,
                  0,
                  1,
                  3,
                  2,
                  5,
                  4,
                  7,
                  6,
                  1,
                  3,
                  2,
                  5,
                  4,
                  7,
                  6,
                  0,
                  3,
                  2,
                  5,
                  4,
                  6,
                  0,
                  1
                 ],
                 "value": [
                  17,
                  1434,
                  693,
                  94,
                  365,
                  235,
                  644,
                  44,
                  58,
                  127,
                  727,
                  89,
                  709,
                  25,
                  959,
                  141,
                  526,
                  7,
                  10,
                  17,
                  8,
                  11,
                  3,
                  14,
                  3,
                  16,
                  6,
                  12,
                  6,
                  1671,
                  192,
                  7871,
                  14,
                  26,
                  602,
                  969,
                  675,
                  466,
                  1996,
                  19,
                  30,
                  710,
                  369,
                  709,
                  11,
                  2259,
                  1,
                  811,
                  120
                 ]
                },
                "node": {
                 "color": [
                  "#4B8BBE",
                  "#4B8BBE",
                  "#4B8BBE",
                  "#4B8BBE",
                  "#4B8BBE",
                  "#4B8BBE",
                  "#4B8BBE",
                  "#4B8BBE",
                  "#306998",
                  "#306998",
                  "#306998",
                  "#306998",
                  "#306998",
                  "#306998",
                  "#306998",
                  "#306998"
                 ],
                 "label": [
                  "new customers",
                  "potential loyalist",
                  "about to sleep",
                  "promising",
                  "hibernating",
                  "champions",
                  "needing attention",
                  "loyal customers"
                 ],
                 "line": {
                  "color": "black",
                  "width": 0.5
                 },
                 "pad": 15,
                 "thickness": 20
                },
                "type": "sankey"
               }
              ],
              "layout": {
               "font": {
                "size": 10
               },
               "title": "Transactions"
              }
             }
            ],
            "label": "source",
            "method": "animate"
           },
           {
            "args": [
             {
              "data": [
               {
                "link": {
                 "source": [
                  0,
                  0,
                  0,
                  0,
                  0,
                  0,
                  0
                 ],
                 "target": [
                  2,
                  5,
                  4,
                  7,
                  6,
                  1,
                  3
                 ],
                 "value": [
                  1671,
                  192,
                  7871,
                  14,
                  26,
                  602,
                  969
                 ]
                },
                "node": {
                 "color": [
                  "#4B8BBE",
                  "#306998",
                  "#306998",
                  "#306998",
                  "#306998",
                  "#306998",
                  "#306998",
                  "#306998"
                 ],
                 "label": [
                  "new customers",
                  "potential loyalist",
                  "about to sleep",
                  "promising",
                  "hibernating",
                  "champions",
                  "needing attention",
                  "loyal customers"
                 ],
                 "line": {
                  "color": "black",
                  "width": 0.5
                 },
                 "pad": 15,
                 "thickness": 20
                },
                "type": "sankey"
               }
              ],
              "layout": {
               "font": {
                "size": 10
               },
               "title": "Transactions"
              }
             }
            ],
            "label": "new customers",
            "method": "animate"
           },
           {
            "args": [
             {
              "data": [
               {
                "link": {
                 "source": [
                  0,
                  0,
                  0,
                  0,
                  0
                 ],
                 "target": [
                  5,
                  4,
                  1,
                  2,
                  3
                 ],
                 "value": [
                  17,
                  1434,
                  693,
                  94,
                  365
                 ]
                },
                "node": {
                 "color": [
                  "#4B8BBE",
                  "#306998",
                  "#306998",
                  "#306998",
                  "#306998",
                  "#306998"
                 ],
                 "label": [
                  "about to sleep",
                  "new customers",
                  "potential loyalist",
                  "promising",
                  "hibernating",
                  "champions"
                 ],
                 "line": {
                  "color": "black",
                  "width": 0.5
                 },
                 "pad": 15,
                 "thickness": 20
                },
                "type": "sankey"
               }
              ],
              "layout": {
               "font": {
                "size": 10
               },
               "title": "Transactions"
              }
             }
            ],
            "label": "about to sleep",
            "method": "animate"
           },
           {
            "args": [
             {
              "data": [
               {
                "link": {
                 "source": [
                  0,
                  0,
                  0,
                  0,
                  0,
                  0,
                  0
                 ],
                 "target": [
                  3,
                  5,
                  7,
                  6,
                  1,
                  2,
                  4
                 ],
                 "value": [
                  235,
                  644,
                  44,
                  58,
                  127,
                  727,
                  89
                 ]
                },
                "node": {
                 "color": [
                  "#4B8BBE",
                  "#306998",
                  "#306998",
                  "#306998",
                  "#306998",
                  "#306998",
                  "#306998",
                  "#306998"
                 ],
                 "label": [
                  "champions",
                  "new customers",
                  "potential loyalist",
                  "about to sleep",
                  "promising",
                  "hibernating",
                  "needing attention",
                  "loyal customers"
                 ],
                 "line": {
                  "color": "black",
                  "width": 0.5
                 },
                 "pad": 15,
                 "thickness": 20
                },
                "type": "sankey"
               }
              ],
              "layout": {
               "font": {
                "size": 10
               },
               "title": "Transactions"
              }
             }
            ],
            "label": "champions",
            "method": "animate"
           },
           {
            "args": [
             {
              "data": [
               {
                "link": {
                 "source": [
                  0,
                  0,
                  0,
                  0,
                  0,
                  0
                 ],
                 "target": [
                  3,
                  6,
                  5,
                  1,
                  2,
                  4
                 ],
                 "value": [
                  7,
                  10,
                  17,
                  8,
                  11,
                  3
                 ]
                },
                "node": {
                 "color": [
                  "#4B8BBE",
                  "#306998",
                  "#306998",
                  "#306998",
                  "#306998",
                  "#306998",
                  "#306998"
                 ],
                 "label": [
                  "loyal customers",
                  "new customers",
                  "potential loyalist",
                  "about to sleep",
                  "promising",
                  "hibernating",
                  "champions"
                 ],
                 "line": {
                  "color": "black",
                  "width": 0.5
                 },
                 "pad": 15,
                 "thickness": 20
                },
                "type": "sankey"
               }
              ],
              "layout": {
               "font": {
                "size": 10
               },
               "title": "Transactions"
              }
             }
            ],
            "label": "loyal customers",
            "method": "animate"
           },
           {
            "args": [
             {
              "data": [
               {
                "link": {
                 "source": [
                  0,
                  0,
                  0,
                  0,
                  0,
                  0
                 ],
                 "target": [
                  3,
                  6,
                  5,
                  1,
                  2,
                  4
                 ],
                 "value": [
                  14,
                  3,
                  16,
                  6,
                  12,
                  6
                 ]
                },
                "node": {
                 "color": [
                  "#4B8BBE",
                  "#306998",
                  "#306998",
                  "#306998",
                  "#306998",
                  "#306998",
                  "#306998"
                 ],
                 "label": [
                  "needing attention",
                  "new customers",
                  "potential loyalist",
                  "about to sleep",
                  "promising",
                  "hibernating",
                  "champions"
                 ],
                 "line": {
                  "color": "black",
                  "width": 0.5
                 },
                 "pad": 15,
                 "thickness": 20
                },
                "type": "sankey"
               }
              ],
              "layout": {
               "font": {
                "size": 10
               },
               "title": "Transactions"
              }
             }
            ],
            "label": "needing attention",
            "method": "animate"
           },
           {
            "args": [
             {
              "data": [
               {
                "link": {
                 "source": [
                  0,
                  0,
                  0,
                  0,
                  0,
                  0,
                  0
                 ],
                 "target": [
                  2,
                  5,
                  4,
                  7,
                  6,
                  1,
                  3
                 ],
                 "value": [
                  675,
                  466,
                  1996,
                  19,
                  30,
                  710,
                  369
                 ]
                },
                "node": {
                 "color": [
                  "#4B8BBE",
                  "#306998",
                  "#306998",
                  "#306998",
                  "#306998",
                  "#306998",
                  "#306998",
                  "#306998"
                 ],
                 "label": [
                  "potential loyalist",
                  "new customers",
                  "about to sleep",
                  "promising",
                  "hibernating",
                  "champions",
                  "needing attention",
                  "loyal customers"
                 ],
                 "line": {
                  "color": "black",
                  "width": 0.5
                 },
                 "pad": 15,
                 "thickness": 20
                },
                "type": "sankey"
               }
              ],
              "layout": {
               "font": {
                "size": 10
               },
               "title": "Transactions"
              }
             }
            ],
            "label": "potential loyalist",
            "method": "animate"
           },
           {
            "args": [
             {
              "data": [
               {
                "link": {
                 "source": [
                  0,
                  0,
                  0,
                  0,
                  0,
                  0
                 ],
                 "target": [
                  3,
                  5,
                  4,
                  6,
                  1,
                  2
                 ],
                 "value": [
                  709,
                  11,
                  2259,
                  1,
                  811,
                  120
                 ]
                },
                "node": {
                 "color": [
                  "#4B8BBE",
                  "#306998",
                  "#306998",
                  "#306998",
                  "#306998",
                  "#306998",
                  "#306998"
                 ],
                 "label": [
                  "promising",
                  "new customers",
                  "potential loyalist",
                  "about to sleep",
                  "hibernating",
                  "champions",
                  "needing attention"
                 ],
                 "line": {
                  "color": "black",
                  "width": 0.5
                 },
                 "pad": 15,
                 "thickness": 20
                },
                "type": "sankey"
               }
              ],
              "layout": {
               "font": {
                "size": 10
               },
               "title": "Transactions"
              }
             }
            ],
            "label": "promising",
            "method": "animate"
           },
           {
            "args": [
             {
              "data": [
               {
                "link": {
                 "source": [
                  0,
                  0,
                  0,
                  0,
                  0
                 ],
                 "target": [
                  3,
                  5,
                  1,
                  2,
                  4
                 ],
                 "value": [
                  709,
                  25,
                  959,
                  141,
                  526
                 ]
                },
                "node": {
                 "color": [
                  "#4B8BBE",
                  "#306998",
                  "#306998",
                  "#306998",
                  "#306998",
                  "#306998"
                 ],
                 "label": [
                  "hibernating",
                  "new customers",
                  "potential loyalist",
                  "about to sleep",
                  "promising",
                  "champions"
                 ],
                 "line": {
                  "color": "black",
                  "width": 0.5
                 },
                 "pad": 15,
                 "thickness": 20
                },
                "type": "sankey"
               }
              ],
              "layout": {
               "font": {
                "size": 10
               },
               "title": "Transactions"
              }
             }
            ],
            "label": "hibernating",
            "method": "animate"
           }
          ]
         }
        ]
       }
      },
      "text/html": [
       "<div>                            <div id=\"24bfb2b6-345c-49e3-9d04-24fa790f0418\" class=\"plotly-graph-div\" style=\"height:525px; width:100%;\"></div>            <script type=\"text/javascript\">                require([\"plotly\"], function(Plotly) {                    window.PLOTLYENV=window.PLOTLYENV || {};                                    if (document.getElementById(\"24bfb2b6-345c-49e3-9d04-24fa790f0418\")) {                    Plotly.newPlot(                        \"24bfb2b6-345c-49e3-9d04-24fa790f0418\",                        [{\"link\":{\"source\":[2,2,2,2,2,5,5,5,5,5,5,5,4,4,4,4,4,7,7,7,7,7,7,6,6,6,6,6,6,0,0,0,0,0,0,0,1,1,1,1,1,1,1,3,3,3,3,3,3],\"target\":[5,4,0,1,3,2,4,7,6,0,1,3,2,5,0,1,3,2,5,4,0,1,3,2,5,4,0,1,3,2,5,4,7,6,1,3,2,5,4,7,6,0,3,2,5,4,6,0,1],\"value\":[17,1434,693,94,365,235,644,44,58,127,727,89,709,25,959,141,526,7,10,17,8,11,3,14,3,16,6,12,6,1671,192,7871,14,26,602,969,675,466,1996,19,30,710,369,709,11,2259,1,811,120]},\"node\":{\"color\":[\"#4B8BBE\",\"#4B8BBE\",\"#4B8BBE\",\"#4B8BBE\",\"#4B8BBE\",\"#4B8BBE\",\"#4B8BBE\",\"#4B8BBE\",\"#306998\",\"#306998\",\"#306998\",\"#306998\",\"#306998\",\"#306998\",\"#306998\",\"#306998\"],\"label\":[\"new customers\",\"potential loyalist\",\"about to sleep\",\"promising\",\"hibernating\",\"champions\",\"needing attention\",\"loyal customers\"],\"line\":{\"color\":\"black\",\"width\":0.5},\"pad\":15,\"thickness\":20},\"type\":\"sankey\"}],                        {\"font\":{\"size\":10},\"template\":{\"data\":{\"barpolar\":[{\"marker\":{\"line\":{\"color\":\"#E5ECF6\",\"width\":0.5},\"pattern\":{\"fillmode\":\"overlay\",\"size\":10,\"solidity\":0.2}},\"type\":\"barpolar\"}],\"bar\":[{\"error_x\":{\"color\":\"#2a3f5f\"},\"error_y\":{\"color\":\"#2a3f5f\"},\"marker\":{\"line\":{\"color\":\"#E5ECF6\",\"width\":0.5},\"pattern\":{\"fillmode\":\"overlay\",\"size\":10,\"solidity\":0.2}},\"type\":\"bar\"}],\"carpet\":[{\"aaxis\":{\"endlinecolor\":\"#2a3f5f\",\"gridcolor\":\"white\",\"linecolor\":\"white\",\"minorgridcolor\":\"white\",\"startlinecolor\":\"#2a3f5f\"},\"baxis\":{\"endlinecolor\":\"#2a3f5f\",\"gridcolor\":\"white\",\"linecolor\":\"white\",\"minorgridcolor\":\"white\",\"startlinecolor\":\"#2a3f5f\"},\"type\":\"carpet\"}],\"choropleth\":[{\"colorbar\":{\"outlinewidth\":0,\"ticks\":\"\"},\"type\":\"choropleth\"}],\"contourcarpet\":[{\"colorbar\":{\"outlinewidth\":0,\"ticks\":\"\"},\"type\":\"contourcarpet\"}],\"contour\":[{\"colorbar\":{\"outlinewidth\":0,\"ticks\":\"\"},\"colorscale\":[[0.0,\"#0d0887\"],[0.1111111111111111,\"#46039f\"],[0.2222222222222222,\"#7201a8\"],[0.3333333333333333,\"#9c179e\"],[0.4444444444444444,\"#bd3786\"],[0.5555555555555556,\"#d8576b\"],[0.6666666666666666,\"#ed7953\"],[0.7777777777777778,\"#fb9f3a\"],[0.8888888888888888,\"#fdca26\"],[1.0,\"#f0f921\"]],\"type\":\"contour\"}],\"heatmapgl\":[{\"colorbar\":{\"outlinewidth\":0,\"ticks\":\"\"},\"colorscale\":[[0.0,\"#0d0887\"],[0.1111111111111111,\"#46039f\"],[0.2222222222222222,\"#7201a8\"],[0.3333333333333333,\"#9c179e\"],[0.4444444444444444,\"#bd3786\"],[0.5555555555555556,\"#d8576b\"],[0.6666666666666666,\"#ed7953\"],[0.7777777777777778,\"#fb9f3a\"],[0.8888888888888888,\"#fdca26\"],[1.0,\"#f0f921\"]],\"type\":\"heatmapgl\"}],\"heatmap\":[{\"colorbar\":{\"outlinewidth\":0,\"ticks\":\"\"},\"colorscale\":[[0.0,\"#0d0887\"],[0.1111111111111111,\"#46039f\"],[0.2222222222222222,\"#7201a8\"],[0.3333333333333333,\"#9c179e\"],[0.4444444444444444,\"#bd3786\"],[0.5555555555555556,\"#d8576b\"],[0.6666666666666666,\"#ed7953\"],[0.7777777777777778,\"#fb9f3a\"],[0.8888888888888888,\"#fdca26\"],[1.0,\"#f0f921\"]],\"type\":\"heatmap\"}],\"histogram2dcontour\":[{\"colorbar\":{\"outlinewidth\":0,\"ticks\":\"\"},\"colorscale\":[[0.0,\"#0d0887\"],[0.1111111111111111,\"#46039f\"],[0.2222222222222222,\"#7201a8\"],[0.3333333333333333,\"#9c179e\"],[0.4444444444444444,\"#bd3786\"],[0.5555555555555556,\"#d8576b\"],[0.6666666666666666,\"#ed7953\"],[0.7777777777777778,\"#fb9f3a\"],[0.8888888888888888,\"#fdca26\"],[1.0,\"#f0f921\"]],\"type\":\"histogram2dcontour\"}],\"histogram2d\":[{\"colorbar\":{\"outlinewidth\":0,\"ticks\":\"\"},\"colorscale\":[[0.0,\"#0d0887\"],[0.1111111111111111,\"#46039f\"],[0.2222222222222222,\"#7201a8\"],[0.3333333333333333,\"#9c179e\"],[0.4444444444444444,\"#bd3786\"],[0.5555555555555556,\"#d8576b\"],[0.6666666666666666,\"#ed7953\"],[0.7777777777777778,\"#fb9f3a\"],[0.8888888888888888,\"#fdca26\"],[1.0,\"#f0f921\"]],\"type\":\"histogram2d\"}],\"histogram\":[{\"marker\":{\"pattern\":{\"fillmode\":\"overlay\",\"size\":10,\"solidity\":0.2}},\"type\":\"histogram\"}],\"mesh3d\":[{\"colorbar\":{\"outlinewidth\":0,\"ticks\":\"\"},\"type\":\"mesh3d\"}],\"parcoords\":[{\"line\":{\"colorbar\":{\"outlinewidth\":0,\"ticks\":\"\"}},\"type\":\"parcoords\"}],\"pie\":[{\"automargin\":true,\"type\":\"pie\"}],\"scatter3d\":[{\"line\":{\"colorbar\":{\"outlinewidth\":0,\"ticks\":\"\"}},\"marker\":{\"colorbar\":{\"outlinewidth\":0,\"ticks\":\"\"}},\"type\":\"scatter3d\"}],\"scattercarpet\":[{\"marker\":{\"colorbar\":{\"outlinewidth\":0,\"ticks\":\"\"}},\"type\":\"scattercarpet\"}],\"scattergeo\":[{\"marker\":{\"colorbar\":{\"outlinewidth\":0,\"ticks\":\"\"}},\"type\":\"scattergeo\"}],\"scattergl\":[{\"marker\":{\"colorbar\":{\"outlinewidth\":0,\"ticks\":\"\"}},\"type\":\"scattergl\"}],\"scattermapbox\":[{\"marker\":{\"colorbar\":{\"outlinewidth\":0,\"ticks\":\"\"}},\"type\":\"scattermapbox\"}],\"scatterpolargl\":[{\"marker\":{\"colorbar\":{\"outlinewidth\":0,\"ticks\":\"\"}},\"type\":\"scatterpolargl\"}],\"scatterpolar\":[{\"marker\":{\"colorbar\":{\"outlinewidth\":0,\"ticks\":\"\"}},\"type\":\"scatterpolar\"}],\"scatter\":[{\"fillpattern\":{\"fillmode\":\"overlay\",\"size\":10,\"solidity\":0.2},\"type\":\"scatter\"}],\"scatterternary\":[{\"marker\":{\"colorbar\":{\"outlinewidth\":0,\"ticks\":\"\"}},\"type\":\"scatterternary\"}],\"surface\":[{\"colorbar\":{\"outlinewidth\":0,\"ticks\":\"\"},\"colorscale\":[[0.0,\"#0d0887\"],[0.1111111111111111,\"#46039f\"],[0.2222222222222222,\"#7201a8\"],[0.3333333333333333,\"#9c179e\"],[0.4444444444444444,\"#bd3786\"],[0.5555555555555556,\"#d8576b\"],[0.6666666666666666,\"#ed7953\"],[0.7777777777777778,\"#fb9f3a\"],[0.8888888888888888,\"#fdca26\"],[1.0,\"#f0f921\"]],\"type\":\"surface\"}],\"table\":[{\"cells\":{\"fill\":{\"color\":\"#EBF0F8\"},\"line\":{\"color\":\"white\"}},\"header\":{\"fill\":{\"color\":\"#C8D4E3\"},\"line\":{\"color\":\"white\"}},\"type\":\"table\"}]},\"layout\":{\"annotationdefaults\":{\"arrowcolor\":\"#2a3f5f\",\"arrowhead\":0,\"arrowwidth\":1},\"autotypenumbers\":\"strict\",\"coloraxis\":{\"colorbar\":{\"outlinewidth\":0,\"ticks\":\"\"}},\"colorscale\":{\"diverging\":[[0,\"#8e0152\"],[0.1,\"#c51b7d\"],[0.2,\"#de77ae\"],[0.3,\"#f1b6da\"],[0.4,\"#fde0ef\"],[0.5,\"#f7f7f7\"],[0.6,\"#e6f5d0\"],[0.7,\"#b8e186\"],[0.8,\"#7fbc41\"],[0.9,\"#4d9221\"],[1,\"#276419\"]],\"sequential\":[[0.0,\"#0d0887\"],[0.1111111111111111,\"#46039f\"],[0.2222222222222222,\"#7201a8\"],[0.3333333333333333,\"#9c179e\"],[0.4444444444444444,\"#bd3786\"],[0.5555555555555556,\"#d8576b\"],[0.6666666666666666,\"#ed7953\"],[0.7777777777777778,\"#fb9f3a\"],[0.8888888888888888,\"#fdca26\"],[1.0,\"#f0f921\"]],\"sequentialminus\":[[0.0,\"#0d0887\"],[0.1111111111111111,\"#46039f\"],[0.2222222222222222,\"#7201a8\"],[0.3333333333333333,\"#9c179e\"],[0.4444444444444444,\"#bd3786\"],[0.5555555555555556,\"#d8576b\"],[0.6666666666666666,\"#ed7953\"],[0.7777777777777778,\"#fb9f3a\"],[0.8888888888888888,\"#fdca26\"],[1.0,\"#f0f921\"]]},\"colorway\":[\"#636efa\",\"#EF553B\",\"#00cc96\",\"#ab63fa\",\"#FFA15A\",\"#19d3f3\",\"#FF6692\",\"#B6E880\",\"#FF97FF\",\"#FECB52\"],\"font\":{\"color\":\"#2a3f5f\"},\"geo\":{\"bgcolor\":\"white\",\"lakecolor\":\"white\",\"landcolor\":\"#E5ECF6\",\"showlakes\":true,\"showland\":true,\"subunitcolor\":\"white\"},\"hoverlabel\":{\"align\":\"left\"},\"hovermode\":\"closest\",\"mapbox\":{\"style\":\"light\"},\"paper_bgcolor\":\"white\",\"plot_bgcolor\":\"#E5ECF6\",\"polar\":{\"angularaxis\":{\"gridcolor\":\"white\",\"linecolor\":\"white\",\"ticks\":\"\"},\"bgcolor\":\"#E5ECF6\",\"radialaxis\":{\"gridcolor\":\"white\",\"linecolor\":\"white\",\"ticks\":\"\"}},\"scene\":{\"xaxis\":{\"backgroundcolor\":\"#E5ECF6\",\"gridcolor\":\"white\",\"gridwidth\":2,\"linecolor\":\"white\",\"showbackground\":true,\"ticks\":\"\",\"zerolinecolor\":\"white\"},\"yaxis\":{\"backgroundcolor\":\"#E5ECF6\",\"gridcolor\":\"white\",\"gridwidth\":2,\"linecolor\":\"white\",\"showbackground\":true,\"ticks\":\"\",\"zerolinecolor\":\"white\"},\"zaxis\":{\"backgroundcolor\":\"#E5ECF6\",\"gridcolor\":\"white\",\"gridwidth\":2,\"linecolor\":\"white\",\"showbackground\":true,\"ticks\":\"\",\"zerolinecolor\":\"white\"}},\"shapedefaults\":{\"line\":{\"color\":\"#2a3f5f\"}},\"ternary\":{\"aaxis\":{\"gridcolor\":\"white\",\"linecolor\":\"white\",\"ticks\":\"\"},\"baxis\":{\"gridcolor\":\"white\",\"linecolor\":\"white\",\"ticks\":\"\"},\"bgcolor\":\"#E5ECF6\",\"caxis\":{\"gridcolor\":\"white\",\"linecolor\":\"white\",\"ticks\":\"\"}},\"title\":{\"x\":0.05},\"xaxis\":{\"automargin\":true,\"gridcolor\":\"white\",\"linecolor\":\"white\",\"ticks\":\"\",\"title\":{\"standoff\":15},\"zerolinecolor\":\"white\",\"zerolinewidth\":2},\"yaxis\":{\"automargin\":true,\"gridcolor\":\"white\",\"linecolor\":\"white\",\"ticks\":\"\",\"title\":{\"standoff\":15},\"zerolinecolor\":\"white\",\"zerolinewidth\":2}}},\"title\":{\"text\":\"Transactions\"},\"updatemenus\":[{\"buttons\":[{\"args\":[{\"data\":[{\"type\":\"sankey\",\"node\":{\"pad\":15,\"thickness\":20,\"line\":{\"color\":\"black\",\"width\":0.5},\"label\":[\"new customers\",\"potential loyalist\",\"about to sleep\",\"promising\",\"hibernating\",\"champions\",\"needing attention\",\"loyal customers\"],\"color\":[\"#4B8BBE\",\"#4B8BBE\",\"#4B8BBE\",\"#4B8BBE\",\"#4B8BBE\",\"#4B8BBE\",\"#4B8BBE\",\"#4B8BBE\",\"#306998\",\"#306998\",\"#306998\",\"#306998\",\"#306998\",\"#306998\",\"#306998\",\"#306998\"]},\"link\":{\"source\":[2,2,2,2,2,5,5,5,5,5,5,5,4,4,4,4,4,7,7,7,7,7,7,6,6,6,6,6,6,0,0,0,0,0,0,0,1,1,1,1,1,1,1,3,3,3,3,3,3],\"target\":[5,4,0,1,3,2,4,7,6,0,1,3,2,5,0,1,3,2,5,4,0,1,3,2,5,4,0,1,3,2,5,4,7,6,1,3,2,5,4,7,6,0,3,2,5,4,6,0,1],\"value\":[17,1434,693,94,365,235,644,44,58,127,727,89,709,25,959,141,526,7,10,17,8,11,3,14,3,16,6,12,6,1671,192,7871,14,26,602,969,675,466,1996,19,30,710,369,709,11,2259,1,811,120]}}],\"layout\":{\"title\":\"Transactions\",\"font\":{\"size\":10}}}],\"label\":\"source\",\"method\":\"animate\"},{\"args\":[{\"data\":[{\"type\":\"sankey\",\"node\":{\"pad\":15,\"thickness\":20,\"line\":{\"color\":\"black\",\"width\":0.5},\"label\":[\"new customers\",\"potential loyalist\",\"about to sleep\",\"promising\",\"hibernating\",\"champions\",\"needing attention\",\"loyal customers\"],\"color\":[\"#4B8BBE\",\"#306998\",\"#306998\",\"#306998\",\"#306998\",\"#306998\",\"#306998\",\"#306998\"]},\"link\":{\"source\":[0,0,0,0,0,0,0],\"target\":[2,5,4,7,6,1,3],\"value\":[1671,192,7871,14,26,602,969]}}],\"layout\":{\"title\":\"Transactions\",\"font\":{\"size\":10}}}],\"label\":\"new customers\",\"method\":\"animate\"},{\"args\":[{\"data\":[{\"type\":\"sankey\",\"node\":{\"pad\":15,\"thickness\":20,\"line\":{\"color\":\"black\",\"width\":0.5},\"label\":[\"about to sleep\",\"new customers\",\"potential loyalist\",\"promising\",\"hibernating\",\"champions\"],\"color\":[\"#4B8BBE\",\"#306998\",\"#306998\",\"#306998\",\"#306998\",\"#306998\"]},\"link\":{\"source\":[0,0,0,0,0],\"target\":[5,4,1,2,3],\"value\":[17,1434,693,94,365]}}],\"layout\":{\"title\":\"Transactions\",\"font\":{\"size\":10}}}],\"label\":\"about to sleep\",\"method\":\"animate\"},{\"args\":[{\"data\":[{\"type\":\"sankey\",\"node\":{\"pad\":15,\"thickness\":20,\"line\":{\"color\":\"black\",\"width\":0.5},\"label\":[\"champions\",\"new customers\",\"potential loyalist\",\"about to sleep\",\"promising\",\"hibernating\",\"needing attention\",\"loyal customers\"],\"color\":[\"#4B8BBE\",\"#306998\",\"#306998\",\"#306998\",\"#306998\",\"#306998\",\"#306998\",\"#306998\"]},\"link\":{\"source\":[0,0,0,0,0,0,0],\"target\":[3,5,7,6,1,2,4],\"value\":[235,644,44,58,127,727,89]}}],\"layout\":{\"title\":\"Transactions\",\"font\":{\"size\":10}}}],\"label\":\"champions\",\"method\":\"animate\"},{\"args\":[{\"data\":[{\"type\":\"sankey\",\"node\":{\"pad\":15,\"thickness\":20,\"line\":{\"color\":\"black\",\"width\":0.5},\"label\":[\"loyal customers\",\"new customers\",\"potential loyalist\",\"about to sleep\",\"promising\",\"hibernating\",\"champions\"],\"color\":[\"#4B8BBE\",\"#306998\",\"#306998\",\"#306998\",\"#306998\",\"#306998\",\"#306998\"]},\"link\":{\"source\":[0,0,0,0,0,0],\"target\":[3,6,5,1,2,4],\"value\":[7,10,17,8,11,3]}}],\"layout\":{\"title\":\"Transactions\",\"font\":{\"size\":10}}}],\"label\":\"loyal customers\",\"method\":\"animate\"},{\"args\":[{\"data\":[{\"type\":\"sankey\",\"node\":{\"pad\":15,\"thickness\":20,\"line\":{\"color\":\"black\",\"width\":0.5},\"label\":[\"needing attention\",\"new customers\",\"potential loyalist\",\"about to sleep\",\"promising\",\"hibernating\",\"champions\"],\"color\":[\"#4B8BBE\",\"#306998\",\"#306998\",\"#306998\",\"#306998\",\"#306998\",\"#306998\"]},\"link\":{\"source\":[0,0,0,0,0,0],\"target\":[3,6,5,1,2,4],\"value\":[14,3,16,6,12,6]}}],\"layout\":{\"title\":\"Transactions\",\"font\":{\"size\":10}}}],\"label\":\"needing attention\",\"method\":\"animate\"},{\"args\":[{\"data\":[{\"type\":\"sankey\",\"node\":{\"pad\":15,\"thickness\":20,\"line\":{\"color\":\"black\",\"width\":0.5},\"label\":[\"potential loyalist\",\"new customers\",\"about to sleep\",\"promising\",\"hibernating\",\"champions\",\"needing attention\",\"loyal customers\"],\"color\":[\"#4B8BBE\",\"#306998\",\"#306998\",\"#306998\",\"#306998\",\"#306998\",\"#306998\",\"#306998\"]},\"link\":{\"source\":[0,0,0,0,0,0,0],\"target\":[2,5,4,7,6,1,3],\"value\":[675,466,1996,19,30,710,369]}}],\"layout\":{\"title\":\"Transactions\",\"font\":{\"size\":10}}}],\"label\":\"potential loyalist\",\"method\":\"animate\"},{\"args\":[{\"data\":[{\"type\":\"sankey\",\"node\":{\"pad\":15,\"thickness\":20,\"line\":{\"color\":\"black\",\"width\":0.5},\"label\":[\"promising\",\"new customers\",\"potential loyalist\",\"about to sleep\",\"hibernating\",\"champions\",\"needing attention\"],\"color\":[\"#4B8BBE\",\"#306998\",\"#306998\",\"#306998\",\"#306998\",\"#306998\",\"#306998\"]},\"link\":{\"source\":[0,0,0,0,0,0],\"target\":[3,5,4,6,1,2],\"value\":[709,11,2259,1,811,120]}}],\"layout\":{\"title\":\"Transactions\",\"font\":{\"size\":10}}}],\"label\":\"promising\",\"method\":\"animate\"},{\"args\":[{\"data\":[{\"type\":\"sankey\",\"node\":{\"pad\":15,\"thickness\":20,\"line\":{\"color\":\"black\",\"width\":0.5},\"label\":[\"hibernating\",\"new customers\",\"potential loyalist\",\"about to sleep\",\"promising\",\"champions\"],\"color\":[\"#4B8BBE\",\"#306998\",\"#306998\",\"#306998\",\"#306998\",\"#306998\"]},\"link\":{\"source\":[0,0,0,0,0],\"target\":[3,5,1,2,4],\"value\":[709,25,959,141,526]}}],\"layout\":{\"title\":\"Transactions\",\"font\":{\"size\":10}}}],\"label\":\"hibernating\",\"method\":\"animate\"}]}]},                        {\"responsive\": true}                    ).then(function(){\n",
       "                            \n",
       "var gd = document.getElementById('24bfb2b6-345c-49e3-9d04-24fa790f0418');\n",
       "var x = new MutationObserver(function (mutations, observer) {{\n",
       "        var display = window.getComputedStyle(gd).display;\n",
       "        if (!display || display === 'none') {{\n",
       "            console.log([gd, 'removed!']);\n",
       "            Plotly.purge(gd);\n",
       "            observer.disconnect();\n",
       "        }}\n",
       "}});\n",
       "\n",
       "// Listen for the removal of the full notebook cells\n",
       "var notebookContainer = gd.closest('#notebook-container');\n",
       "if (notebookContainer) {{\n",
       "    x.observe(notebookContainer, {childList: true});\n",
       "}}\n",
       "\n",
       "// Listen for the clearing of the current output cell\n",
       "var outputEl = gd.closest('.output');\n",
       "if (outputEl) {{\n",
       "    x.observe(outputEl, {childList: true});\n",
       "}}\n",
       "\n",
       "                        })                };                });            </script>        </div>"
      ]
     },
     "metadata": {},
     "output_type": "display_data"
    }
   ],
   "source": [
    "atl = genSankey(df[df['source']=='about to sleep'],cat_cols=['source','target'],value_cols='weight',title='Transactions')\n",
    "c = genSankey(df[df['source']=='champions'],cat_cols=['source','target'],value_cols='weight',title='Transactions')\n",
    "lc = genSankey(df[df['source']=='loyal customers'],cat_cols=['source','target'],value_cols='weight',title='Transactions')\n",
    "na = genSankey(df[df['source']=='needing attention'],cat_cols=['source','target'],value_cols='weight',title='Transactions')\n",
    "nc = genSankey(df[df['source']=='new customers'],cat_cols=['source','target'],value_cols='weight',title='Transactions')\n",
    "pl = genSankey(df[df['source']=='potential loyalist'],cat_cols=['source','target'],value_cols='weight',title='Transactions')\n",
    "p = genSankey(df[df['source']=='promising'],cat_cols=['source','target'],value_cols='weight',title='Transactions')\n",
    "h = genSankey(df[df['source']=='hibernating'],cat_cols=['source','target'],value_cols='weight',title='Transactions')\n",
    "all = genSankey(df,cat_cols=['source','target'],value_cols='weight',title='Transactions')\n",
    "\n",
    "updatemenus = [{'buttons': [{'method': 'animate',\n",
    "                             'label': 'source',\n",
    "                             'args': [all]\n",
    "                              },\n",
    "                            {'method': 'animate',\n",
    "                             'label': 'new customers',\n",
    "                             'args': [nc]\n",
    "                              },\n",
    "                            {'method': 'animate',\n",
    "                             'label': 'about to sleep',\n",
    "                             'args': [atl]\n",
    "                              },\n",
    "                            {'method': 'animate',\n",
    "                             'label': 'champions',\n",
    "                             'args': [c]\n",
    "                             },\n",
    "                            {'method': 'animate',\n",
    "                             'label': 'loyal customers',\n",
    "                             'args': [lc]\n",
    "                             },\n",
    "                            {'method': 'animate',\n",
    "                             'label': 'needing attention',\n",
    "                             'args': [na]\n",
    "                             },\n",
    "                            {'method': 'animate',\n",
    "                             'label': 'potential loyalist',\n",
    "                             'args': [pl]\n",
    "                              },\n",
    "                            {'method': 'animate',\n",
    "                             'label': 'promising',\n",
    "                             'args': [p]\n",
    "                              },\n",
    "                            {'method': 'animate',\n",
    "                             'label': 'hibernating',\n",
    "                             'args': [h]\n",
    "                             }\n",
    "                            ] } ]\n",
    "\n",
    "sank = genSankey(df,cat_cols=['source','target'],value_cols='weight',title='Transactions')\n",
    "fig = go.Figure(sank)\n",
    "fig.update_layout(updatemenus=updatemenus)\n",
    "iplot(fig)"
   ]
  },
  {
   "cell_type": "code",
   "execution_count": null,
   "id": "be17b44c-9389-44b7-957a-263360acfe8f",
   "metadata": {},
   "outputs": [],
   "source": []
  }
 ],
 "metadata": {
  "kernelspec": {
   "display_name": "Python 3 (ipykernel)",
   "language": "python",
   "name": "python3"
  },
  "language_info": {
   "codemirror_mode": {
    "name": "ipython",
    "version": 3
   },
   "file_extension": ".py",
   "mimetype": "text/x-python",
   "name": "python",
   "nbconvert_exporter": "python",
   "pygments_lexer": "ipython3",
   "version": "3.9.7"
  }
 },
 "nbformat": 4,
 "nbformat_minor": 5
}
